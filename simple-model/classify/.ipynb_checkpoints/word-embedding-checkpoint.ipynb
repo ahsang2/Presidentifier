{
 "cells": [
  {
   "cell_type": "code",
   "execution_count": null,
   "metadata": {},
   "outputs": [],
   "source": [
    "# Loading the data file from local download\n",
    "path_fastText = 'wiki-news-300d-1M.vec'\n",
    "dictionary = open(path_fastText, 'r', encoding='utf-8',\n",
    "                  newline='\\n', errors='ignore')\n",
    "embeds = {}\n",
    "for line in dictionary:\n",
    "    tokens = line.rstrip().split(' ')\n",
    "    embeds[tokens[0]] = [float(x) for x in tokens[1:]]\n",
    "    \n",
    "    if len(embeds) == 100000:\n",
    "        break"
   ]
  }
 ],
 "metadata": {
  "kernelspec": {
   "display_name": "Python 3",
   "language": "python",
   "name": "python3"
  },
  "language_info": {
   "codemirror_mode": {
    "name": "ipython",
    "version": 3
   },
   "file_extension": ".py",
   "mimetype": "text/x-python",
   "name": "python",
   "nbconvert_exporter": "python",
   "pygments_lexer": "ipython3",
   "version": "3.7.4"
  }
 },
 "nbformat": 4,
 "nbformat_minor": 2
}
